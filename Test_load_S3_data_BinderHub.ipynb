{
 "cells": [
  {
   "cell_type": "code",
   "execution_count": null,
   "metadata": {},
   "outputs": [],
   "source": [
    "# Example for testing S3 NetCDF data loading in BinderHub environment. \n",
    "# Depending on environment (e.g. MyBinder), you need to install a set of modules first with pip."
   ]
  },
  {
   "cell_type": "code",
   "execution_count": null,
   "metadata": {},
   "outputs": [],
   "source": [
    "# If \"import\" commands result in \"No module named **\", install corresponding module via below pip commands before import \n",
    "# Use the order below: install e.g. h5netcdf before xarray"
   ]
  },
  {
   "cell_type": "code",
   "execution_count": null,
   "metadata": {},
   "outputs": [],
   "source": [
    "# H5NETCDF might not be readily installed\n",
    "\n",
    "!pip3 install h5netcdf"
   ]
  },
  {
   "cell_type": "code",
   "execution_count": null,
   "metadata": {},
   "outputs": [],
   "source": [
    "# S3FS might not be readily installed\n",
    "\n",
    "!pip3 install s3fs "
   ]
  },
  {
   "cell_type": "code",
   "execution_count": null,
   "metadata": {},
   "outputs": [],
   "source": [
    "# XARRAY might not be readily installed\n",
    "\n",
    "!pip3 install xarray"
   ]
  },
  {
   "cell_type": "code",
   "execution_count": null,
   "metadata": {},
   "outputs": [],
   "source": [
    "# Cartopy (requires GEOS) might not be readily installed\n",
    "\n",
    "!pip3 install geos\n",
    "!pip3 install cartopy"
   ]
  },
  {
   "cell_type": "code",
   "execution_count": null,
   "metadata": {},
   "outputs": [],
   "source": [
    "# Dask dataframe might be required (will complain \"No module named dask\"), at least in MyBinder\n",
    "!pip3 install \"dask[dataframe]\""
   ]
  },
  {
   "cell_type": "code",
   "execution_count": null,
   "metadata": {},
   "outputs": [],
   "source": [
    "!pip3 install matplotlib"
   ]
  },
  {
   "cell_type": "code",
   "execution_count": null,
   "metadata": {},
   "outputs": [],
   "source": [
    "import s3fs\n",
    "import xarray as xr\n",
    "import numpy as np\n",
    "import pandas as pd\n",
    "import h5netcdf\n",
    "import h5netcdf.legacyapi as netCDF4\n",
    "import matplotlib\n",
    "import matplotlib.pyplot as plt"
   ]
  },
  {
   "cell_type": "code",
   "execution_count": null,
   "metadata": {},
   "outputs": [],
   "source": [
    "# Loading a test file from CSC S3 service:\n",
    "\n",
    "s3 = s3fs.S3FileSystem(anon=True, client_kwargs=dict(endpoint_url=\"https://a3s.fi\"))\n",
    "\n",
    "# CCN concentration from EC-Earth/TM5 for year 2009\n",
    "s3path = 's3://CRiceS-test/EC-Earth_CCN_1.00_2009.nc' \n",
    "    \n",
    "remote_files = s3.glob(s3path)\n",
    "\n",
    "# Iterate through remote_files to create a fileset\n",
    "fileset = [s3.open(file) for file in remote_files]\n",
    "\n",
    "# Open dataset as XArray\n",
    "data = xr.open_mfdataset(fileset)"
   ]
  },
  {
   "cell_type": "code",
   "execution_count": null,
   "metadata": {},
   "outputs": [],
   "source": [
    "# Plot example data from lowest level\n",
    "data[\"CCN1.00\"].isel(lev=1).squeeze().plot.pcolormesh()\n"
   ]
  }
 ],
 "metadata": {
  "kernelspec": {
   "display_name": "Python 3",
   "language": "python",
   "name": "python3"
  },
  "language_info": {
   "codemirror_mode": {
    "name": "ipython",
    "version": 3
   },
   "file_extension": ".py",
   "mimetype": "text/x-python",
   "name": "python",
   "nbconvert_exporter": "python",
   "pygments_lexer": "ipython3",
   "version": "3.7.2"
  }
 },
 "nbformat": 4,
 "nbformat_minor": 4
}
